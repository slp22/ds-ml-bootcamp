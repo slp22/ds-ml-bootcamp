{
 "cells": [
  {
   "cell_type": "markdown",
   "id": "7f60cc49",
   "metadata": {},
   "source": [
    "# Leetcode [Data Structure](https://leetcode.com/study-plan/data-structure/?progress=xyuegd3r)"
   ]
  },
  {
   "cell_type": "code",
   "execution_count": 117,
   "id": "d9169c1c",
   "metadata": {},
   "outputs": [],
   "source": [
    "# https://leetcode.com/problems/contains-duplicate/?envType=study-plan&id=data-structure-i\n",
    "# Given an integer array nums, return true if any value appears at least twice in the array, and \n",
    "# return false if every element is distinct."
   ]
  },
  {
   "cell_type": "code",
   "execution_count": 123,
   "id": "65cdc5a5",
   "metadata": {},
   "outputs": [],
   "source": [
    "# def using dict()\n",
    "\n",
    "def containsDuplicate(nums):\n",
    "    freq = {}\n",
    "    for n in nums:\n",
    "        if n in freq:\n",
    "            return True\n",
    "        else:\n",
    "            freq[n] = 1\n",
    "    return False\n",
    "\n",
    "# https://leetcode.com/problems/contains-duplicate/solutions/3160045/easiest-python3-solution/?envType=study-plan&id=data-structure-i&languageTags=python3\n",
    "# class Solution:\n",
    "#     def containsDuplicate(self, nums: List[int]) -> bool:\n",
    "#         hset={}\n",
    "#         for i in nums:\n",
    "#             if i in hset:\n",
    "#                 return True\n",
    "#             hset[i]=1\n",
    "#         return False"
   ]
  },
  {
   "cell_type": "code",
   "execution_count": 121,
   "id": "9d19eb65",
   "metadata": {},
   "outputs": [],
   "source": [
    "# def using set()\n",
    "\n",
    "# def containsDuplicate(nums):\n",
    "#     return len(set(nums))!=len(nums)"
   ]
  },
  {
   "cell_type": "code",
   "execution_count": 125,
   "id": "f1f0854b",
   "metadata": {},
   "outputs": [
    {
     "name": "stdout",
     "output_type": "stream",
     "text": [
      "True\n",
      "True\n",
      "False\n",
      "True\n",
      "True\n",
      "True\n"
     ]
    }
   ],
   "source": [
    "print(containsDuplicate(['a','b','c','a']))     #T\n",
    "print(containsDuplicate([1,2,3,1]))             #T\n",
    "print(containsDuplicate([1,2,3,4]))             #F\n",
    "print(containsDuplicate([1,1,1,3,3,4,3,2,4,2])) #T\n",
    "print(containsDuplicate([2,14,18,22,22]))       #T\n",
    "print(containsDuplicate([0,4,5,0,3,6]))         #T\n"
   ]
  },
  {
   "cell_type": "code",
   "execution_count": 126,
   "id": "361f9863",
   "metadata": {},
   "outputs": [],
   "source": [
    "# https://leetcode.com/problems/maximum-subarray/?envType=study-plan&id=data-structure-i\n",
    "# Given an integer array nums, find the subarray with the largest sum, and return its sum.\n",
    "\n",
    "def maxSubArray(nums):\n",
    "    "
   ]
  },
  {
   "cell_type": "code",
   "execution_count": null,
   "id": "89c7fc96",
   "metadata": {},
   "outputs": [],
   "source": [
    "print([-2,1,-3,4,-1,2,1,-5,4])\n",
    "print([1])\n",
    "print([5,4,-1,7,8])\n",
    "print()\n",
    "print()\n",
    "print()"
   ]
  },
  {
   "cell_type": "code",
   "execution_count": 7,
   "id": "b849ef50",
   "metadata": {},
   "outputs": [],
   "source": [
    "# https://leetcode.com/problems/two-sum/?envType=study-plan&id=data-structure-i\n",
    "\n",
    "# Given an array of integers nums and an integer target, return indices of the two numbers such that they add up to target.\n",
    "# You may assume that each input would have exactly one solution, and you may not use the same element twice.\n",
    "# You can return the answer in any order.\n",
    "\n",
    "# Solution: https://leetcode.com/problems/two-sum/solutions/3366532/100-solution-explained/?envType=study-plan&id=data-structure-i&languageTags=python3\n",
    "# video explanantion: https://youtu.be/oadssnyJA90\n",
    "def twoSum(nums, target):    \n",
    "    d ={}\n",
    "    for index, value in enumerate(nums):\n",
    "        remainder = target - value\n",
    "        if remainder in d:\n",
    "            return [d[remainder], index]\n",
    "        else:\n",
    "            d[value] = index"
   ]
  },
  {
   "cell_type": "code",
   "execution_count": 11,
   "id": "2c2b9391",
   "metadata": {},
   "outputs": [
    {
     "name": "stdout",
     "output_type": "stream",
     "text": [
      "[0, 1]\n",
      "[1, 2]\n",
      "[0, 1]\n",
      "[0, 2]\n"
     ]
    }
   ],
   "source": [
    "print(twoSum([2,7,11,15], 9))\n",
    "print(twoSum([3,2,4], 6))\n",
    "print(twoSum([3,3],6))\n",
    "print(twoSum([3,2,3],6))"
   ]
  },
  {
   "cell_type": "code",
   "execution_count": null,
   "id": "a71d6263",
   "metadata": {},
   "outputs": [],
   "source": []
  },
  {
   "cell_type": "code",
   "execution_count": null,
   "id": "1641c43c",
   "metadata": {},
   "outputs": [],
   "source": []
  },
  {
   "cell_type": "code",
   "execution_count": null,
   "id": "6116bbad",
   "metadata": {},
   "outputs": [],
   "source": []
  },
  {
   "cell_type": "code",
   "execution_count": null,
   "id": "68a4cfb0",
   "metadata": {},
   "outputs": [],
   "source": []
  }
 ],
 "metadata": {
  "kernelspec": {
   "display_name": "Python 3 (deep_learning)",
   "language": "python",
   "name": "deep_learning"
  },
  "language_info": {
   "codemirror_mode": {
    "name": "ipython",
    "version": 3
   },
   "file_extension": ".py",
   "mimetype": "text/x-python",
   "name": "python",
   "nbconvert_exporter": "python",
   "pygments_lexer": "ipython3",
   "version": "3.8.12"
  }
 },
 "nbformat": 4,
 "nbformat_minor": 5
}
