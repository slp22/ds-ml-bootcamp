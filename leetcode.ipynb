{
 "cells": [
  {
   "cell_type": "markdown",
   "id": "7f60cc49",
   "metadata": {},
   "source": [
    "# Leetcode [Data Structure](https://leetcode.com/study-plan/data-structure/?progress=xyuegd3r)"
   ]
  },
  {
   "cell_type": "code",
   "execution_count": null,
   "id": "d9169c1c",
   "metadata": {},
   "outputs": [],
   "source": [
    "# https://leetcode.com/problems/contains-duplicate/?envType=study-plan&id=data-structure-i\n",
    "# Given an integer array nums, return true if any value appears at least twice in the array, and \n",
    "# return false if every element is distinct.\n",
    "\n",
    "\n",
    "def containsDuplicate(nums):\n",
    "    for i in nums:\n",
    "        for i in nums:\n",
    "                \n",
    "# go through list\n",
    "# check if there's another instance\n",
    "# go through the list again\n",
    "# check if there's another instance \n",
    "# stop and return "
   ]
  },
  {
   "cell_type": "code",
   "execution_count": null,
   "id": "f1f0854b",
   "metadata": {},
   "outputs": [],
   "source": [
    "# print(containsDuplicate([1,2,3,1]))\n",
    "# print(containsDuplicate([1,2,3,4]))\n",
    "# print(containsDuplicate([1,1,1,3,3,4,3,2,4,2]))\n",
    "print(containsDuplicate([2,14,18,22,22]))"
   ]
  },
  {
   "cell_type": "code",
   "execution_count": null,
   "id": "361f9863",
   "metadata": {},
   "outputs": [],
   "source": [
    "# https://leetcode.com/problems/maximum-subarray/?envType=study-plan&id=data-structure-i\n",
    "# Given an integer array nums, find the subarray with the largest sum, and return its sum.\n",
    "\n",
    "def maxSubArray(nums):\n",
    "    "
   ]
  },
  {
   "cell_type": "code",
   "execution_count": null,
   "id": "89c7fc96",
   "metadata": {},
   "outputs": [],
   "source": [
    "print([-2,1,-3,4,-1,2,1,-5,4])\n",
    "print([1])\n",
    "print([5,4,-1,7,8])\n",
    "print()\n",
    "print()\n",
    "print()"
   ]
  },
  {
   "cell_type": "markdown",
   "id": "2c64f38d",
   "metadata": {},
   "source": [
    "# 👀 Rewrite without explicit index positions"
   ]
  },
  {
   "cell_type": "code",
   "execution_count": 97,
   "id": "b849ef50",
   "metadata": {},
   "outputs": [],
   "source": [
    "# https://leetcode.com/problems/two-sum/?envType=study-plan&id=data-structure-i\n",
    "\n",
    "# Given an array of integers nums and an integer target, return indices of the two numbers such that they add up to target.\n",
    "# You may assume that each input would have exactly one solution, and you may not use the same element twice.\n",
    "# You can return the answer in any order.\n",
    "\n",
    "# Solution: https://leetcode.com/problems/two-sum/solutions/3366532/100-solution-explained/?envType=study-plan&id=data-structure-i&languageTags=python3\n",
    "# video explanantion: https://www.youtube.com/watch?v=oadssnyJA90&embeds_euri=https%3A%2F%2Fleetcode.com%2F&source_ve_path=MjM4NTE&feature=emb_title\n",
    "\n",
    "# def twoSum(nums, target):\n",
    "#     prevMap = {} # val : index\n",
    "#     for i, n in enumerate(nums):\n",
    "#         print(i,n)\n",
    "#         diff = target - n\n",
    "#         print('diff',diff)\n",
    "#         print('prevMap', prevMap)\n",
    "#         if diff in prevMap:\n",
    "#             return [prevMap[diff], i]\n",
    "#         prevMap[n] = i\n",
    "#     return\n",
    "\n",
    "\n",
    "# https://leetcode.com/problems/two-sum/solutions/2990807/solution-c-java-python-both-brute-force-optimized-code/?envType=study-plan&id=data-structure-i\n",
    "\n",
    "#brute force\n",
    "# def twoSum(nums, target):\n",
    "#     for i in range(len(nums)):\n",
    "#         for j in range(i + 1, len(nums)):\n",
    "#             if (i != j and nums[i] + nums[j] == target):\n",
    "#                 return [i, j]\n",
    "#     return []\n",
    "\n",
    "# optimized\n",
    "def twoSum(nums, target):\n",
    "    numToIndex = {}\n",
    "    for i in range(len(nums)):\n",
    "        if target - nums[i] in numToIndex:\n",
    "            return [numToIndex[target - nums[i]], i]\n",
    "        numToIndex[nums[i]] = i\n",
    "    return []\n"
   ]
  },
  {
   "cell_type": "code",
   "execution_count": 98,
   "id": "2c2b9391",
   "metadata": {},
   "outputs": [
    {
     "name": "stdout",
     "output_type": "stream",
     "text": [
      "[0, 1]\n"
     ]
    }
   ],
   "source": [
    "print(twoSum([2,7,11,15], 9))\n",
    "# print(twoSum([3,2,4], 6))\n",
    "# print(twoSum([3,3],6))\n",
    "# print(twoSum([3,2,3],6))"
   ]
  },
  {
   "cell_type": "code",
   "execution_count": null,
   "id": "a71d6263",
   "metadata": {},
   "outputs": [],
   "source": []
  },
  {
   "cell_type": "code",
   "execution_count": null,
   "id": "1641c43c",
   "metadata": {},
   "outputs": [],
   "source": []
  },
  {
   "cell_type": "code",
   "execution_count": null,
   "id": "6116bbad",
   "metadata": {},
   "outputs": [],
   "source": []
  },
  {
   "cell_type": "code",
   "execution_count": null,
   "id": "68a4cfb0",
   "metadata": {},
   "outputs": [],
   "source": []
  }
 ],
 "metadata": {
  "kernelspec": {
   "display_name": "Python 3 (deep_learning)",
   "language": "python",
   "name": "deep_learning"
  },
  "language_info": {
   "codemirror_mode": {
    "name": "ipython",
    "version": 3
   },
   "file_extension": ".py",
   "mimetype": "text/x-python",
   "name": "python",
   "nbconvert_exporter": "python",
   "pygments_lexer": "ipython3",
   "version": "3.8.12"
  }
 },
 "nbformat": 4,
 "nbformat_minor": 5
}
