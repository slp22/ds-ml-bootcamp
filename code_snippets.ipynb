{
 "cells": [
  {
   "cell_type": "markdown",
   "id": "1d231014",
   "metadata": {},
   "source": [
    "# Code Snipets"
   ]
  },
  {
   "cell_type": "markdown",
   "id": "47ce0be6",
   "metadata": {},
   "source": [
    "## Logistic Regression"
   ]
  },
  {
   "cell_type": "code",
   "execution_count": 1,
   "id": "de6b1499",
   "metadata": {},
   "outputs": [],
   "source": [
    "import pandas as pd\n",
    "import numpy as np\n",
    "import matplotlib.pyplot as plt\n",
    "import seaborn as sns\n",
    "%matplotlib inline\n",
    "\n",
    "from sklearn.model_selection import train_test_split\n",
    "from sklearn.linear_model import LogisticRegression\n",
    "from sklearn.metrics import classification_report, confusion_matrix, ConfusionMatrixDisplay"
   ]
  },
  {
   "cell_type": "code",
   "execution_count": null,
   "id": "bb35b94e",
   "metadata": {},
   "outputs": [],
   "source": []
  },
  {
   "cell_type": "code",
   "execution_count": null,
   "id": "9c541b6b",
   "metadata": {},
   "outputs": [],
   "source": [
    "df['col_name'].plot.hist(bins=30)"
   ]
  },
  {
   "cell_type": "code",
   "execution_count": null,
   "id": "0e77bbd2",
   "metadata": {},
   "outputs": [],
   "source": [
    "sns.heatmap(df.isnull(), yticklabels=False, cbar=False, cmap='viridis')"
   ]
  },
  {
   "cell_type": "code",
   "execution_count": null,
   "id": "6103fdb3",
   "metadata": {},
   "outputs": [],
   "source": [
    "X = df.drop(['target'], axis=1)\n",
    "y = df['target']"
   ]
  },
  {
   "cell_type": "code",
   "execution_count": null,
   "id": "07dc9ef7",
   "metadata": {},
   "outputs": [],
   "source": [
    "X_train, X_test, y_train, y_test = train_test_split(X, y,\n",
    "                                                   test_size=0.3,\n",
    "                                                   random_state=101)"
   ]
  },
  {
   "cell_type": "code",
   "execution_count": null,
   "id": "1cfff518",
   "metadata": {},
   "outputs": [],
   "source": [
    "logmodel = LogisticRegression()"
   ]
  },
  {
   "cell_type": "code",
   "execution_count": null,
   "id": "528cc04d",
   "metadata": {},
   "outputs": [],
   "source": [
    "logmodel.fit(X_train, y_train)"
   ]
  },
  {
   "cell_type": "code",
   "execution_count": null,
   "id": "4398388c",
   "metadata": {},
   "outputs": [],
   "source": [
    "y_pred = logmodel.predict(X_train)"
   ]
  },
  {
   "cell_type": "code",
   "execution_count": 4,
   "id": "e8c25db5",
   "metadata": {},
   "outputs": [],
   "source": [
    "print('\\n TRAINING STATS:')\n",
    "print('classification accuracy:', metrics.accuracy_score(y_pred, y_train))\n",
    "print('confusion matrix: \\n', metrics.confusion_matrix, y_train, y_pred)"
   ]
  },
  {
   "cell_type": "code",
   "execution_count": null,
   "id": "8ec073d2",
   "metadata": {},
   "outputs": [],
   "source": [
    "print('\\n TESTING STATS:')\n",
    "print('classification accuracy:', metrics.accuracy_score(y_pred, y_test))\n",
    "print('confusion matrix: \\n', metrics.confusion_matrix(y_test, y_pred))"
   ]
  },
  {
   "cell_type": "code",
   "execution_count": null,
   "id": "765a0e6e",
   "metadata": {},
   "outputs": [],
   "source": [
    "print(classification_report(y_test, predictions))"
   ]
  },
  {
   "cell_type": "code",
   "execution_count": null,
   "id": "63c07ae6",
   "metadata": {},
   "outputs": [],
   "source": [
    "cm = confusion_matrix(y_test, predictions)\n",
    "ConfusionMatrixDisplay(confusion_matrix=confusion_matrix(y_test, predictions)).plot();"
   ]
  },
  {
   "cell_type": "code",
   "execution_count": null,
   "id": "e747b6f3",
   "metadata": {},
   "outputs": [],
   "source": []
  },
  {
   "cell_type": "code",
   "execution_count": null,
   "id": "931f7cb1",
   "metadata": {},
   "outputs": [],
   "source": []
  },
  {
   "cell_type": "code",
   "execution_count": null,
   "id": "89e19053",
   "metadata": {},
   "outputs": [],
   "source": [
    "# train_test split\n",
    "X_train, X_test, y_train, y_test = cross_validation.train_test_split(X,y,\n",
    "                                                                    test_size=0.20)\n",
    "\n",
    "# create a 10-fold cross-validation set\n",
    "kf = cross_validation.KFold(n=y.shape[0],\n",
    "                           n_folds=10,\n",
    "                           shuffle=True,\n",
    "                           random_state=0)\n",
    "\n",
    "# search for parameter along the following:\n",
    "C = np.arange(2, 20,)\n",
    "acc = np.zeros((10,18))\n",
    "i = 0\n",
    "for train_index, val_index in kf:\n",
    "    X_train, X_val = X[train_index], X[val_index]\n",
    "    y_train, y_val = y[train_index], y[val_index]\n",
    "    j = 0\n",
    "    for c in C:\n",
    "        dt = tree.DecisionTreeClassifier(\n",
    "            min_smaples_leaf=1, \n",
    "            max_depth=c)\n",
    "        dt.fit(X_train, y_train)\n",
    "        y_pred = dt.predict(X_val)\n",
    "        acc[i][j] = metrics.accuracy_score(y_pred, y_val)\n",
    "        j = j+1\n",
    "    i = i+1\n",
    "\n",
    "print('Mean accuracy:', np.mean(acc, axis=0))\n",
    "print('Selected model index:', np.argmax(np.mean(acc, axis=0)))\n",
    "    \n",
    "    \n",
    "# source intro to data science (Igual & Seguí) p. 84"
   ]
  },
  {
   "cell_type": "code",
   "execution_count": null,
   "id": "c76ecd30",
   "metadata": {},
   "outputs": [],
   "source": []
  },
  {
   "cell_type": "code",
   "execution_count": null,
   "id": "dd1d91db",
   "metadata": {},
   "outputs": [],
   "source": []
  }
 ],
 "metadata": {
  "kernelspec": {
   "display_name": "Python 3 (unsupervised)",
   "language": "python",
   "name": "unsupervised"
  },
  "language_info": {
   "codemirror_mode": {
    "name": "ipython",
    "version": 3
   },
   "file_extension": ".py",
   "mimetype": "text/x-python",
   "name": "python",
   "nbconvert_exporter": "python",
   "pygments_lexer": "ipython3",
   "version": "3.8.12"
  }
 },
 "nbformat": 4,
 "nbformat_minor": 5
}
