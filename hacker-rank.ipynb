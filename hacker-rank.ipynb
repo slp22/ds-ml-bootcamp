{
 "cells": [
  {
   "cell_type": "markdown",
   "id": "0d2fe04f",
   "metadata": {},
   "source": [
    "# https://www.hackerrank.com/domains/python?filters%5Bsubdomains%5D%5B%5D=py-basic-data-types"
   ]
  },
  {
   "cell_type": "markdown",
   "id": "e6ecb4a2",
   "metadata": {},
   "source": [
    "https://www.hackerrank.com/challenges/python-print/problem?isFullScreen=true\n"
   ]
  },
  {
   "cell_type": "code",
   "execution_count": null,
   "id": "46a0b63d",
   "metadata": {},
   "outputs": [],
   "source": [
    "\n",
    "# # n=5\n",
    "n=3\n",
    "# nums = ''\n",
    "\n",
    "# for n in range(1,n+1):\n",
    "#     nums += str(n)\n",
    "# print(nums)\n",
    "\n",
    "from __future__ import print_function\n",
    "N = int(input())\n",
    "print(*range(1,N+1), sep='')"
   ]
  },
  {
   "cell_type": "markdown",
   "id": "59e05524",
   "metadata": {},
   "source": [
    "https://www.hackerrank.com/challenges/find-second-maximum-number-in-a-list/problem?isFullScreen=true"
   ]
  },
  {
   "cell_type": "code",
   "execution_count": null,
   "id": "6b097f2d",
   "metadata": {},
   "outputs": [],
   "source": [
    "n = int(input())\n",
    "arr = map(int, input().split())"
   ]
  },
  {
   "cell_type": "code",
   "execution_count": null,
   "id": "47b45464",
   "metadata": {},
   "outputs": [],
   "source": [
    "score_list = list(arr)"
   ]
  },
  {
   "cell_type": "code",
   "execution_count": null,
   "id": "a9646b6f",
   "metadata": {},
   "outputs": [],
   "source": [
    "score_list"
   ]
  },
  {
   "cell_type": "code",
   "execution_count": null,
   "id": "6edfc8ed",
   "metadata": {},
   "outputs": [],
   "source": [
    "sorted_score_list = sorted(score_list)\n",
    "sorted_score_list"
   ]
  },
  {
   "cell_type": "code",
   "execution_count": null,
   "id": "f652a97d",
   "metadata": {},
   "outputs": [],
   "source": [
    "max_score = max(sorted_score_list)\n",
    "max_index = sorted_score_list.index(max_score)\n",
    "max_index"
   ]
  },
  {
   "cell_type": "code",
   "execution_count": null,
   "id": "6dc05d7e",
   "metadata": {},
   "outputs": [],
   "source": [
    "print(sorted_score_list[max_index-1])"
   ]
  },
  {
   "cell_type": "markdown",
   "id": "9efd5645",
   "metadata": {},
   "source": [
    "https://www.hackerrank.com/challenges/finding-the-percentage/problem?isFullScreen=true"
   ]
  },
  {
   "cell_type": "code",
   "execution_count": null,
   "id": "e3c27fbd",
   "metadata": {},
   "outputs": [],
   "source": [
    "# attempt 1\n",
    "# if __name__ == '__main__':\n",
    "#     n = int(input())\n",
    "#     student_marks = {}\n",
    "#     for _ in range(n):\n",
    "#         name, *line = input().split()\n",
    "#         scores = list(map(float, line))\n",
    "#         student_marks[name] = scores\n",
    "#     query_name = input()"
   ]
  },
  {
   "cell_type": "code",
   "execution_count": null,
   "id": "eea2a330",
   "metadata": {},
   "outputs": [],
   "source": [
    "# Print the average of the marks array for the student name provided, \n",
    "# showing 2 places after the decimal.\n",
    "# expected output 56.00 "
   ]
  },
  {
   "cell_type": "code",
   "execution_count": null,
   "id": "a10c51b7",
   "metadata": {},
   "outputs": [],
   "source": [
    "type(scores)"
   ]
  },
  {
   "cell_type": "code",
   "execution_count": null,
   "id": "48467c23",
   "metadata": {},
   "outputs": [],
   "source": [
    "avg_malika = (sum(scores)/len(scores))\n",
    "print('%.2f'%avg_malika)\n"
   ]
  },
  {
   "cell_type": "code",
   "execution_count": null,
   "id": "83d50ff7",
   "metadata": {},
   "outputs": [],
   "source": [
    "# attempt 2\n",
    "\n",
    "if __name__ == '__main__':\n",
    "    n = int(input())\n",
    "    student_marks = {}\n",
    "    for _ in range(n):\n",
    "        name, *line = input().split()\n",
    "        scores = list(map(float, line))\n",
    "        student_marks[name] = scores\n",
    "    query_name = input()\n",
    "\n",
    "# expected output 26.50"
   ]
  },
  {
   "cell_type": "code",
   "execution_count": null,
   "id": "4542fda2",
   "metadata": {},
   "outputs": [],
   "source": [
    "student_marks[name] # doesn't query right name"
   ]
  },
  {
   "cell_type": "code",
   "execution_count": null,
   "id": "95f2097b",
   "metadata": {},
   "outputs": [],
   "source": [
    "student_marks[query_name] #confirm querying the right name"
   ]
  },
  {
   "cell_type": "code",
   "execution_count": null,
   "id": "3c0f9ee6",
   "metadata": {
    "scrolled": true
   },
   "outputs": [],
   "source": [
    "avg_query_name = (sum(student_marks[query_name])/\n",
    "                  len(student_marks[query_name]))\n",
    "print('%.2f'%avg_query_name)"
   ]
  },
  {
   "cell_type": "markdown",
   "id": "ab8be4b4",
   "metadata": {},
   "source": [
    "https://www.hackerrank.com/challenges/python-lists/problem?isFullScreen=true"
   ]
  },
  {
   "cell_type": "code",
   "execution_count": 71,
   "id": "6c3ba597",
   "metadata": {},
   "outputs": [],
   "source": [
    "if __name__ == '__main__':\n",
    "    N = int(input())   \n",
    "    arr = list()\n",
    "    for _ in range(N):\n",
    "        command = list(input().split())\n",
    "\n",
    "        if command[0] == 'append':\n",
    "            arr.append(int(command[1]))\n",
    "        elif command[0] == 'insert':\n",
    "            arr.insert(int(command[1]), int(command[2]))\n",
    "        elif command[0] == 'remove':\n",
    "            arr.remove(int(command[1]))\n",
    "        elif command[0] == 'sort':\n",
    "            arr.sort()\n",
    "        elif command[0] == 'pop':\n",
    "            arr.pop()            \n",
    "        elif command[0] == 'reverse':\n",
    "            arr.reverse()\n",
    "        elif command[0] == 'print':\n",
    "            print(arr)"
   ]
  },
  {
   "cell_type": "code",
   "execution_count": 73,
   "id": "ebfd3580",
   "metadata": {},
   "outputs": [],
   "source": [
    "# print [6, 5, 10] √ \n",
    "remove 6\n",
    "append 9\n",
    "append 1\n",
    "sort\n",
    "# print [1, 5, 9, 10] x [5, 10, 9, 1]\n",
    "pop\n",
    "reverse\n",
    "# print [9, 5, 1] x [9, 10, 5]"
   ]
  },
  {
   "cell_type": "code",
   "execution_count": 91,
   "id": "4639c450",
   "metadata": {},
   "outputs": [
    {
     "data": {
      "text/plain": [
       "[9, 5, 1]"
      ]
     },
     "execution_count": 91,
     "metadata": {},
     "output_type": "execute_result"
    }
   ],
   "source": [
    "arr = [6,5,10]\n",
    "arr.remove(6)\n",
    "arr.append(9)\n",
    "arr.append(1)\n",
    "arr.sort()\n",
    "arr.pop()\n",
    "arr.reverse()\n",
    "arr"
   ]
  },
  {
   "cell_type": "markdown",
   "id": "991a8058",
   "metadata": {},
   "source": [
    "https://www.hackerrank.com/challenges/python-tuples/problem?isFullScreen=true&h_r=next-challenge&h_v=zen"
   ]
  },
  {
   "cell_type": "code",
   "execution_count": null,
   "id": "7299842d",
   "metadata": {},
   "outputs": [],
   "source": [
    "# Given an integer, n, and n space-separated integers as input, create a tuple, t, \n",
    "# of those n integers. Then compute and print the result of hash(t).\n",
    "\n",
    "# hash(object)\n",
    "\n",
    "# The first line contains an integer, n, denoting the number of elements in the tuple.\n",
    "# The second line contains n space-separated integers describing the elements in tuple t."
   ]
  },
  {
   "cell_type": "code",
   "execution_count": 98,
   "id": "59fb2712",
   "metadata": {},
   "outputs": [
    {
     "name": "stdout",
     "output_type": "stream",
     "text": [
      "1 2\n",
      "-3550055125485641917\n"
     ]
    }
   ],
   "source": [
    "if __name__ == '__main__':\n",
    "    n = int(input())\n",
    "    integer_list = map(int, input().split())\n",
    "    t = tuple(integer_list)\n",
    "    print(hash(t))"
   ]
  },
  {
   "cell_type": "code",
   "execution_count": null,
   "id": "016db920",
   "metadata": {},
   "outputs": [],
   "source": [
    "# # input\n",
    "# 2 = n\n",
    "# 1 2 = int --> tuple t\n",
    "# # output\n",
    "# 3713081631934410656"
   ]
  },
  {
   "cell_type": "code",
   "execution_count": 102,
   "id": "9a20d1a6",
   "metadata": {},
   "outputs": [],
   "source": [
    "ints = [1, 2]\n",
    "t = tuple(ints)"
   ]
  },
  {
   "cell_type": "code",
   "execution_count": 107,
   "id": "6eb80d8c",
   "metadata": {},
   "outputs": [
    {
     "data": {
      "text/plain": [
       "tuple"
      ]
     },
     "execution_count": 107,
     "metadata": {},
     "output_type": "execute_result"
    }
   ],
   "source": [
    "type(t)"
   ]
  },
  {
   "cell_type": "code",
   "execution_count": 108,
   "id": "49368660",
   "metadata": {},
   "outputs": [
    {
     "data": {
      "text/plain": [
       "-3550055125485641917"
      ]
     },
     "execution_count": 108,
     "metadata": {},
     "output_type": "execute_result"
    }
   ],
   "source": [
    "hash(t)"
   ]
  },
  {
   "cell_type": "code",
   "execution_count": 109,
   "id": "4963dcb7",
   "metadata": {},
   "outputs": [
    {
     "data": {
      "text/plain": [
       "int"
      ]
     },
     "execution_count": 109,
     "metadata": {},
     "output_type": "execute_result"
    }
   ],
   "source": [
    "type(hash(t))"
   ]
  },
  {
   "cell_type": "markdown",
   "id": "2446bdda",
   "metadata": {},
   "source": [
    "# 🔖🔖🔖🔖🔖🔖🔖🔖🔖🔖"
   ]
  },
  {
   "cell_type": "markdown",
   "id": "808aef28",
   "metadata": {},
   "source": [
    "https://www.hackerrank.com/challenges/list-comprehensions/problem?isFullScreen=true&h_r=next-challenge&h_v=zen&h_r=next-challenge&h_v=zen"
   ]
  },
  {
   "cell_type": "code",
   "execution_count": null,
   "id": "0b0518c1",
   "metadata": {},
   "outputs": [],
   "source": [
    "# Given 3 integers x,y,z representing the dimensions of a cuboid along with an integer n. \n",
    "# Print a list of all possible coordinates given by (i,j,k) on a 3D grid where \n",
    "# the sum of i+j+k is not equal to n. Here,0<i<x; 0<j<y; 0<k<z. \n",
    "# Use list comprehensions rather than multiple loops, as a learning exercise.\n",
    "\n",
    "# input: Four integers  x,y,z and n, each on a separate line.\n",
    "# constraints: Print the list in lexicographic increasing order.\n"
   ]
  },
  {
   "cell_type": "code",
   "execution_count": null,
   "id": "b64db61b",
   "metadata": {},
   "outputs": [],
   "source": [
    "if __name__ == '__main__':\n",
    "    x = int(input())\n",
    "    y = int(input())\n",
    "    z = int(input())\n",
    "    n = int(input())"
   ]
  },
  {
   "cell_type": "code",
   "execution_count": null,
   "id": "c8c3f98d",
   "metadata": {},
   "outputs": [],
   "source": [
    "\n"
   ]
  },
  {
   "cell_type": "code",
   "execution_count": null,
   "id": "9a5dbd8b",
   "metadata": {},
   "outputs": [],
   "source": [
    "# input\n",
    "1\n",
    "1\n",
    "1\n",
    "2\n",
    "# expected output\n",
    "# [[0, 0, 0], [0, 0, 1], [0, 1, 0], [1, 0, 0], [1, 1, 1]] \n"
   ]
  },
  {
   "cell_type": "code",
   "execution_count": null,
   "id": "b854580c",
   "metadata": {},
   "outputs": [],
   "source": [
    "# input\n",
    "2\n",
    "2\n",
    "2\n",
    "2\n",
    "# expected output\n",
    "# [[0, 0, 0], [0, 0, 1], [0, 1, 0], [0, 1, 2], [0, 2, 1], [0, 2, 2], [1, 0, 0], [1, 0, 2], [1, 1, 1], [1, 1, 2], \n",
    "# [1, 2, 0], [1, 2, 1], [1, 2, 2], [2, 0, 1], [2, 0, 2], [2, 1, 0], [2, 1, 1], [2, 1, 2], [2, 2, 0], [2, 2, 1], \n",
    "# [2, 2, 2]]\n",
    "# Remove all arrays that sum to n=2 to leave only the valid permutations."
   ]
  },
  {
   "cell_type": "code",
   "execution_count": null,
   "id": "ae19c157",
   "metadata": {},
   "outputs": [],
   "source": []
  },
  {
   "cell_type": "code",
   "execution_count": null,
   "id": "44942b01",
   "metadata": {},
   "outputs": [],
   "source": []
  },
  {
   "cell_type": "code",
   "execution_count": null,
   "id": "07b1cda0",
   "metadata": {},
   "outputs": [],
   "source": []
  },
  {
   "cell_type": "code",
   "execution_count": null,
   "id": "544ec08d",
   "metadata": {},
   "outputs": [],
   "source": []
  }
 ],
 "metadata": {
  "kernelspec": {
   "display_name": "Python 3 (ipykernel)",
   "language": "python",
   "name": "python3"
  },
  "language_info": {
   "codemirror_mode": {
    "name": "ipython",
    "version": 3
   },
   "file_extension": ".py",
   "mimetype": "text/x-python",
   "name": "python",
   "nbconvert_exporter": "python",
   "pygments_lexer": "ipython3",
   "version": "3.8.12"
  }
 },
 "nbformat": 4,
 "nbformat_minor": 5
}
