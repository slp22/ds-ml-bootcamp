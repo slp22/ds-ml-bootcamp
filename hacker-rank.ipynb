{
 "cells": [
  {
   "cell_type": "markdown",
   "id": "0d2fe04f",
   "metadata": {},
   "source": [
    "# https://www.hackerrank.com/domains/python?filters%5Bsubdomains%5D%5B%5D=py-basic-data-types"
   ]
  },
  {
   "cell_type": "markdown",
   "id": "e6ecb4a2",
   "metadata": {},
   "source": [
    "https://www.hackerrank.com/challenges/python-print/problem?isFullScreen=true\n"
   ]
  },
  {
   "cell_type": "code",
   "execution_count": 18,
   "id": "46a0b63d",
   "metadata": {},
   "outputs": [
    {
     "name": "stdout",
     "output_type": "stream",
     "text": [
      "3\n",
      "123\n"
     ]
    }
   ],
   "source": [
    "\n",
    "# # n=5\n",
    "n=3\n",
    "# nums = ''\n",
    "\n",
    "# for n in range(1,n+1):\n",
    "#     nums += str(n)\n",
    "# print(nums)\n",
    "\n",
    "from __future__ import print_function\n",
    "N = int(input())\n",
    "print(*range(1,N+1), sep='')"
   ]
  },
  {
   "cell_type": "markdown",
   "id": "59e05524",
   "metadata": {},
   "source": [
    "https://www.hackerrank.com/challenges/find-second-maximum-number-in-a-list/problem?isFullScreen=true"
   ]
  },
  {
   "cell_type": "code",
   "execution_count": 58,
   "id": "6b097f2d",
   "metadata": {},
   "outputs": [
    {
     "name": "stdout",
     "output_type": "stream",
     "text": [
      "5\n",
      "2 3 6 6 5\n"
     ]
    }
   ],
   "source": [
    "n = int(input())\n",
    "arr = map(int, input().split())"
   ]
  },
  {
   "cell_type": "code",
   "execution_count": 59,
   "id": "47b45464",
   "metadata": {},
   "outputs": [],
   "source": [
    "score_list = list(arr)"
   ]
  },
  {
   "cell_type": "code",
   "execution_count": 60,
   "id": "a9646b6f",
   "metadata": {},
   "outputs": [
    {
     "data": {
      "text/plain": [
       "[2, 3, 6, 6, 5]"
      ]
     },
     "execution_count": 60,
     "metadata": {},
     "output_type": "execute_result"
    }
   ],
   "source": [
    "score_list"
   ]
  },
  {
   "cell_type": "code",
   "execution_count": 83,
   "id": "6edfc8ed",
   "metadata": {},
   "outputs": [
    {
     "data": {
      "text/plain": [
       "[2, 3, 5, 6, 6]"
      ]
     },
     "execution_count": 83,
     "metadata": {},
     "output_type": "execute_result"
    }
   ],
   "source": [
    "sorted_score_list = sorted(score_list)\n",
    "sorted_score_list"
   ]
  },
  {
   "cell_type": "code",
   "execution_count": 82,
   "id": "f652a97d",
   "metadata": {},
   "outputs": [
    {
     "data": {
      "text/plain": [
       "3"
      ]
     },
     "execution_count": 82,
     "metadata": {},
     "output_type": "execute_result"
    }
   ],
   "source": [
    "max_score = max(sorted_score_list)\n",
    "max_index = sorted_score_list.index(max_score)\n",
    "max_index"
   ]
  },
  {
   "cell_type": "code",
   "execution_count": 84,
   "id": "6dc05d7e",
   "metadata": {},
   "outputs": [
    {
     "name": "stdout",
     "output_type": "stream",
     "text": [
      "5\n"
     ]
    }
   ],
   "source": [
    "print(sorted_score_list[max_index-1])"
   ]
  },
  {
   "cell_type": "markdown",
   "id": "9efd5645",
   "metadata": {},
   "source": [
    "https://www.hackerrank.com/challenges/finding-the-percentage/problem?isFullScreen=true"
   ]
  },
  {
   "cell_type": "code",
   "execution_count": 166,
   "id": "e3c27fbd",
   "metadata": {},
   "outputs": [],
   "source": [
    "# attempt 1\n",
    "# if __name__ == '__main__':\n",
    "#     n = int(input())\n",
    "#     student_marks = {}\n",
    "#     for _ in range(n):\n",
    "#         name, *line = input().split()\n",
    "#         scores = list(map(float, line))\n",
    "#         student_marks[name] = scores\n",
    "#     query_name = input()"
   ]
  },
  {
   "cell_type": "code",
   "execution_count": 167,
   "id": "eea2a330",
   "metadata": {},
   "outputs": [],
   "source": [
    "# Print the average of the marks array for the student name provided, \n",
    "# showing 2 places after the decimal.\n",
    "# expected output 56.00 "
   ]
  },
  {
   "cell_type": "code",
   "execution_count": 171,
   "id": "a10c51b7",
   "metadata": {},
   "outputs": [
    {
     "data": {
      "text/plain": [
       "list"
      ]
     },
     "execution_count": 171,
     "metadata": {},
     "output_type": "execute_result"
    }
   ],
   "source": [
    "type(scores)"
   ]
  },
  {
   "cell_type": "code",
   "execution_count": 172,
   "id": "48467c23",
   "metadata": {},
   "outputs": [
    {
     "name": "stdout",
     "output_type": "stream",
     "text": [
      "28.00\n"
     ]
    }
   ],
   "source": [
    "avg_malika = (sum(scores)/len(scores))\n",
    "print('%.2f'%avg_malika)\n"
   ]
  },
  {
   "cell_type": "code",
   "execution_count": 174,
   "id": "83d50ff7",
   "metadata": {},
   "outputs": [
    {
     "name": "stdout",
     "output_type": "stream",
     "text": [
      "2\n",
      "Harsh 25 26.5 28\n",
      "Anurag 26 28 30\n",
      "Harsh\n"
     ]
    }
   ],
   "source": [
    "# attempt 2\n",
    "\n",
    "if __name__ == '__main__':\n",
    "    n = int(input())\n",
    "    student_marks = {}\n",
    "    for _ in range(n):\n",
    "        name, *line = input().split()\n",
    "        scores = list(map(float, line))\n",
    "        student_marks[name] = scores\n",
    "    query_name = input()\n",
    "\n",
    "# expected output 26.50"
   ]
  },
  {
   "cell_type": "code",
   "execution_count": 176,
   "id": "4542fda2",
   "metadata": {},
   "outputs": [
    {
     "data": {
      "text/plain": [
       "[26.0, 28.0, 30.0]"
      ]
     },
     "execution_count": 176,
     "metadata": {},
     "output_type": "execute_result"
    }
   ],
   "source": [
    "student_marks[name] # doesn't query right name"
   ]
  },
  {
   "cell_type": "code",
   "execution_count": 179,
   "id": "95f2097b",
   "metadata": {},
   "outputs": [
    {
     "data": {
      "text/plain": [
       "[25.0, 26.5, 28.0]"
      ]
     },
     "execution_count": 179,
     "metadata": {},
     "output_type": "execute_result"
    }
   ],
   "source": [
    "student_marks[query_name] #confirm querying the right name"
   ]
  },
  {
   "cell_type": "code",
   "execution_count": 182,
   "id": "3c0f9ee6",
   "metadata": {
    "scrolled": true
   },
   "outputs": [
    {
     "name": "stdout",
     "output_type": "stream",
     "text": [
      "26.50\n"
     ]
    }
   ],
   "source": [
    "avg_query_name = (sum(student_marks[query_name])/\n",
    "                  len(student_marks[query_name]))\n",
    "print('%.2f'%avg_query_name)"
   ]
  },
  {
   "cell_type": "markdown",
   "id": "2446bdda",
   "metadata": {},
   "source": [
    "# 🔖🔖🔖🔖🔖🔖🔖🔖🔖🔖"
   ]
  },
  {
   "cell_type": "markdown",
   "id": "ab8be4b4",
   "metadata": {},
   "source": [
    "https://www.hackerrank.com/challenges/python-lists/problem?isFullScreen=true"
   ]
  },
  {
   "cell_type": "code",
   "execution_count": 194,
   "id": "6c3ba597",
   "metadata": {},
   "outputs": [
    {
     "name": "stdout",
     "output_type": "stream",
     "text": [
      "4\n"
     ]
    }
   ],
   "source": [
    "if __name__ == '__main__':\n",
    "    nums = []\n",
    "    N = int(input())"
   ]
  },
  {
   "cell_type": "code",
   "execution_count": 234,
   "id": "881856bc",
   "metadata": {},
   "outputs": [
    {
     "name": "stdout",
     "output_type": "stream",
     "text": [
      "append 1\n",
      "append 2\n",
      "insert 3 1\n",
      "print\n"
     ]
    }
   ],
   "source": [
    "commands = {}\n",
    "for _ in range(N):\n",
    "    command, *line = input().split()\n",
    "    num = list(map(float, line))\n",
    "    commands[command] = num\n",
    "    "
   ]
  },
  {
   "cell_type": "code",
   "execution_count": 235,
   "id": "a6a11814",
   "metadata": {},
   "outputs": [
    {
     "data": {
      "text/plain": [
       "{'append': [2.0], 'insert': [3.0, 1.0], 'print': []}"
      ]
     },
     "execution_count": 235,
     "metadata": {},
     "output_type": "execute_result"
    }
   ],
   "source": [
    "commands"
   ]
  },
  {
   "cell_type": "code",
   "execution_count": 233,
   "id": "f9166be7",
   "metadata": {},
   "outputs": [
    {
     "data": {
      "text/plain": [
       "[2.0]"
      ]
     },
     "execution_count": 233,
     "metadata": {},
     "output_type": "execute_result"
    }
   ],
   "source": [
    "commands['append']"
   ]
  },
  {
   "cell_type": "code",
   "execution_count": null,
   "id": "1cd8faec",
   "metadata": {},
   "outputs": [],
   "source": []
  },
  {
   "cell_type": "code",
   "execution_count": null,
   "id": "64de7782",
   "metadata": {},
   "outputs": [],
   "source": []
  }
 ],
 "metadata": {
  "kernelspec": {
   "display_name": "Python 3 (ipykernel)",
   "language": "python",
   "name": "python3"
  },
  "language_info": {
   "codemirror_mode": {
    "name": "ipython",
    "version": 3
   },
   "file_extension": ".py",
   "mimetype": "text/x-python",
   "name": "python",
   "nbconvert_exporter": "python",
   "pygments_lexer": "ipython3",
   "version": "3.8.12"
  }
 },
 "nbformat": 4,
 "nbformat_minor": 5
}
