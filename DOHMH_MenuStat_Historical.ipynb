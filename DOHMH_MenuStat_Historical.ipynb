{
 "cells": [
  {
   "cell_type": "markdown",
   "id": "efdeffdb",
   "metadata": {},
   "source": [
    "# DOHMH MenuStat Historical\n",
    "\n",
    "* [data.cityofnewyork.us](https://data.cityofnewyork.us/Health/DOHMH-MenuStat-Historical-/qgc5-ecnb)\n"
   ]
  },
  {
   "cell_type": "markdown",
   "id": "e745fca3",
   "metadata": {},
   "source": [
    "* [menustat.org](https://www.menustat.org/data.html)\n",
    "* [Dataset](https://data.cityofnewyork.us/api/views/qgc5-ecnb/rows.csv?date=20231011&accessType=DOWNLOAD)</br>\n",
    "* [Data Dictionary](https://data.cityofnewyork.us/Health/DOHMH-MenuStat-Historical-/qgc5-ecnb#:~:text=DOHMH_MenuStat_DD.xlsx)\n",
    "\n",
    "* x[Question Matrix]()</br>\n",
    "* x[Questionnaire]()</br>\n",
    "* x[Codebook]()</br>\n"
   ]
  },
  {
   "cell_type": "code",
   "execution_count": null,
   "id": "aaecb5c6",
   "metadata": {},
   "outputs": [],
   "source": [
    "import pandas as pd\n",
    "import numpy as np\n",
    "import matplotlib.pyplot as plt\n",
    "import matplotlib as mpl\n",
    "import seaborn as sns\n",
    "\n",
    "from mdb_parser import MDBParser, MDBTable\n",
    "\n",
    "pd.options.display.float_format = \"{:,.0f}\".format\n",
    "%matplotlib inline"
   ]
  },
  {
   "cell_type": "code",
   "execution_count": null,
   "id": "5f2b5b1a",
   "metadata": {},
   "outputs": [],
   "source": [
    "df = pd.read_csv(\"DOHMH_MenuStat__Historical__20231011.csv\", low_memory=False)"
   ]
  },
  {
   "cell_type": "code",
   "execution_count": null,
   "id": "6247e263",
   "metadata": {},
   "outputs": [],
   "source": [
    "df"
   ]
  },
  {
   "cell_type": "code",
   "execution_count": null,
   "id": "8a04b83d",
   "metadata": {},
   "outputs": [],
   "source": [
    "df.info()"
   ]
  },
  {
   "cell_type": "code",
   "execution_count": null,
   "id": "8edc322d",
   "metadata": {},
   "outputs": [],
   "source": [
    "df.describe()"
   ]
  },
  {
   "cell_type": "code",
   "execution_count": null,
   "id": "f7cc4633",
   "metadata": {},
   "outputs": [],
   "source": [
    "df.restaurant.unique()"
   ]
  },
  {
   "cell_type": "code",
   "execution_count": null,
   "id": "8c9a4bd0",
   "metadata": {},
   "outputs": [],
   "source": [
    "df.Year.unique()"
   ]
  },
  {
   "cell_type": "code",
   "execution_count": null,
   "id": "ab72f069",
   "metadata": {},
   "outputs": [],
   "source": [
    "df.Item_Name.unique()"
   ]
  },
  {
   "cell_type": "code",
   "execution_count": null,
   "id": "94ffdab8",
   "metadata": {},
   "outputs": [],
   "source": [
    "df.Item_Name.nunique()"
   ]
  },
  {
   "cell_type": "code",
   "execution_count": null,
   "id": "67625dbd",
   "metadata": {},
   "outputs": [],
   "source": []
  }
 ],
 "metadata": {
  "kernelspec": {
   "display_name": "Python 3 (unsupervised)",
   "language": "python",
   "name": "unsupervised"
  },
  "language_info": {
   "codemirror_mode": {
    "name": "ipython",
    "version": 3
   },
   "file_extension": ".py",
   "mimetype": "text/x-python",
   "name": "python",
   "nbconvert_exporter": "python",
   "pygments_lexer": "ipython3",
   "version": "3.8.12"
  }
 },
 "nbformat": 4,
 "nbformat_minor": 5
}
