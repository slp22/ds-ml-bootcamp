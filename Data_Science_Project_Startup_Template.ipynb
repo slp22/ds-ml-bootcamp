{
  "nbformat": 4,
  "nbformat_minor": 0,
  "metadata": {
    "colab": {
      "provenance": [],
      "authorship_tag": "ABX9TyOFVtvZFwUWyq4H17BHv64f",
      "include_colab_link": true
    },
    "kernelspec": {
      "name": "python3",
      "display_name": "Python 3"
    },
    "language_info": {
      "name": "python"
    }
  },
  "cells": [
    {
      "cell_type": "markdown",
      "metadata": {
        "id": "view-in-github",
        "colab_type": "text"
      },
      "source": [
        "<a href=\"https://colab.research.google.com/github/slp22/ds-ml-bootcamp/blob/main/Data_Science_Project_Startup_Template.ipynb\" target=\"_parent\"><img src=\"https://colab.research.google.com/assets/colab-badge.svg\" alt=\"Open In Colab\"/></a>"
      ]
    },
    {
      "cell_type": "markdown",
      "source": [
        "Adapted from:\n",
        "*   [Understanding the Data Science Lifecycle](https://www.sudeep.co/data-science/2018/02/09/Understanding-the-Data-Science-Lifecycle.html)<br/>\n",
        "*   [A Taxonomy of Data Science](https://sites.google.com/a/isim.net.in/datascience_isim/taxonomy)<br/>\n",
        "*   [A Guide to Building Your First Data Science Project](https://medium.com/analytics-vidhya/a-guide-to-building-your-first-data-science-project-e5f814b098a7)"
      ],
      "metadata": {
        "id": "G-Zr8Q6DJ-o6"
      }
    },
    {
      "cell_type": "markdown",
      "source": [
        "# 1 | Business Understanding"
      ],
      "metadata": {
        "id": "-meEGiqEIVgJ"
      }
    },
    {
      "cell_type": "markdown",
      "source": [
        "\n",
        "\n",
        "*   Ask relevant questions\n",
        "*   Define objectives for problem\n",
        "\n"
      ],
      "metadata": {
        "id": "78sGtVbZIVv9"
      }
    },
    {
      "cell_type": "markdown",
      "source": [
        "# 2 | Data Mining (Obtain)"
      ],
      "metadata": {
        "id": "Ygf04yShIVz9"
      }
    },
    {
      "cell_type": "markdown",
      "source": [
        "\n",
        "\n",
        "*   Gather and scrape data\n",
        "\n",
        "\n"
      ],
      "metadata": {
        "id": "TEGcaAiSIV22"
      }
    },
    {
      "cell_type": "code",
      "source": [
        "df.shape()\n",
        "df.info()"
      ],
      "metadata": {
        "id": "A_-cRSSJdb9V"
      },
      "execution_count": null,
      "outputs": []
    },
    {
      "cell_type": "markdown",
      "source": [
        "# 3 | Data Cleaning (Scrub)"
      ],
      "metadata": {
        "id": "Ut7JMygFIV5m"
      }
    },
    {
      "cell_type": "markdown",
      "source": [
        "\n",
        "\n",
        "*   Fix inconsistencies within data\n",
        "*   Handle missing values\n",
        "\n"
      ],
      "metadata": {
        "id": "a97aEsAYIV8U"
      }
    },
    {
      "cell_type": "code",
      "source": [
        "df.isnull().sum()\n",
        "df.fillna(...)\n",
        "df.interpolate(..)"
      ],
      "metadata": {
        "id": "RY6bmqb7dfn4"
      },
      "execution_count": 1,
      "outputs": []
    },
    {
      "cell_type": "markdown",
      "source": [
        "# 4 | Data Exploration (Explore)"
      ],
      "metadata": {
        "id": "wffC0SmLIV-r"
      }
    },
    {
      "cell_type": "markdown",
      "source": [
        "\n",
        "\n",
        "*   Form hypothesis about defined problem by visually analysising data\n",
        "*   (Equivalent of lit rev?)\n",
        "*   visualize, cluster, reduce dimensions\n",
        "*   _more/less_ zoom  in/out, head/tail\n",
        "*   _histograms_ single features\n",
        "*   _scatter plots_ simple feature-pair\n",
        "*   _dimensionality reduction_ MDS, SVD, PCA, PLS\n",
        "*   _clustering_ group observations\n",
        "\n"
      ],
      "metadata": {
        "id": "eeIb4tABIWBR"
      }
    },
    {
      "cell_type": "code",
      "source": [
        "sns.boxplot(data=df)\n",
        "sns.heatmap(df.corr)\n",
        "sns.distplot(df[vars])\n",
        "sns.barplot(x='', y='')\n",
        "sns.countplot(x='', data=df, hue='')\n",
        "sns.regplot(x='', y='')"
      ],
      "metadata": {
        "id": "jqbz-J1Qdy8d"
      },
      "execution_count": null,
      "outputs": []
    },
    {
      "cell_type": "markdown",
      "source": [
        "# 5 | Feature Engineering"
      ],
      "metadata": {
        "id": "kwZ4yXaYIWFg"
      }
    },
    {
      "cell_type": "markdown",
      "source": [
        "\n",
        "\n",
        "*   Select important features\n",
        "*   Construct more meaningful ones with raw data\n",
        "\n"
      ],
      "metadata": {
        "id": "b6l6oQ3tJTX7"
      }
    },
    {
      "cell_type": "code",
      "source": [
        "# data pre-processing\n",
        "\n",
        "# train/test split\n",
        "# feature scaling MinMaxScaler\n",
        "# resample imblanaced variable SMOTE\n",
        "from sklearn.model_selection import cross_val_score, train_test_split\n",
        "from sklearn.preprocessing import StandardScaler, MinMaxScaler\n",
        "from imblearn.over_sampling import SMOTE\n",
        "\n",
        "# feature selection\n",
        "from sklearn.feature_selection import SelectKBest, chi2\n",
        "from sklearn.feature_selection import mutual_info_clasif"
      ],
      "metadata": {
        "id": "tYzlj8yLe_4i"
      },
      "execution_count": null,
      "outputs": []
    },
    {
      "cell_type": "code",
      "source": [
        "\n"
      ],
      "metadata": {
        "id": "geBWZTnFeJay"
      },
      "execution_count": null,
      "outputs": []
    },
    {
      "cell_type": "markdown",
      "source": [
        "# 6 | Predictive Modeling (Model)"
      ],
      "metadata": {
        "id": "8RyZZ1ptJTb-"
      }
    },
    {
      "cell_type": "markdown",
      "source": [
        "\n",
        "\n",
        "*   Train ML models\n",
        "*   Evaluate model performance\n",
        "*   Use model to make predictions\n",
        "*   fit/train, optimize, validate\n",
        "\n"
      ],
      "metadata": {
        "id": "t2zyd4HEJTe1"
      }
    },
    {
      "cell_type": "code",
      "source": [
        "# logistic regression – understand influence one variable\n",
        "# random forest – classification and regression\n",
        "# knn – closeness of data points\n",
        "# svm – crates linear separator => two classes"
      ],
      "metadata": {
        "id": "gMeixFE6go3u"
      },
      "execution_count": null,
      "outputs": []
    },
    {
      "cell_type": "markdown",
      "source": [
        "# 7 | Data Visualization (Interpret)"
      ],
      "metadata": {
        "id": "ggREAWQFJThN"
      }
    },
    {
      "cell_type": "markdown",
      "source": [
        "\n",
        "\n",
        "*   Communicate findings with key stakeholders\n",
        "*   Use plots and interactive visualizations\n",
        "*   Choose natureal set of input features\n",
        "*   Choose hypothesis space\n",
        "*   Choose learning/optimization algorithm (regularization)\n",
        "\n"
      ],
      "metadata": {
        "id": "VkY5xy-rJTj0"
      }
    },
    {
      "cell_type": "code",
      "source": [
        "# hyperparameter tunin\n",
        "\n",
        "# GridSearchCV\n",
        "# RandomizedSearchCV\n",
        "# RandomForest n_estimators, max_features, max_depth, min_samples_split, min_samples_leaf, bootstrap\n",
        "# knn leaf size, n_neighbors, p\n",
        "# svm C, kernel, gamma\n"
      ],
      "metadata": {
        "id": "eohx0vVqf3Pd"
      },
      "execution_count": null,
      "outputs": []
    },
    {
      "cell_type": "code",
      "source": [
        "# model evaluation\n",
        "# classification accurcy\n",
        "# confusion matrix"
      ],
      "metadata": {
        "id": "_Y0a1hkLgCoX"
      },
      "execution_count": null,
      "outputs": []
    }
  ]
}