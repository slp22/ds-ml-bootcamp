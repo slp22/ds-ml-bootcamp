{
 "cells": [
  {
   "cell_type": "markdown",
   "metadata": {
    "colab_type": "text",
    "id": "view-in-github"
   },
   "source": [
    "<a href=\"https://colab.research.google.com/github/slp22/ds-ml-bootcamp/blob/main/Data_Science_Project_Startup_Template.ipynb\" target=\"_parent\"><img src=\"https://colab.research.google.com/assets/colab-badge.svg\" alt=\"Open In Colab\"/></a>"
   ]
  },
  {
   "cell_type": "code",
   "execution_count": null,
   "metadata": {
    "id": "IwWZGmNBbdqD"
   },
   "outputs": [],
   "source": []
  },
  {
   "cell_type": "markdown",
   "metadata": {
    "id": "7EBlZE_sbfMc"
   },
   "source": [
    "# Datasets\n",
    "[Thyroid Disease](https://archive.ics.uci.edu/dataset/102/thyroid+disease)"
   ]
  },
  {
   "cell_type": "markdown",
   "metadata": {
    "id": "G-Zr8Q6DJ-o6"
   },
   "source": [
    "Adapted from:\n",
    "*   [Understanding the Data Science Lifecycle](https://www.sudeep.co/data-science/2018/02/09/Understanding-the-Data-Science-Lifecycle.html)<br/>\n",
    "*   [A Taxonomy of Data Science](https://sites.google.com/a/isim.net.in/datascience_isim/taxonomy)<br/>\n",
    "*   [A Guide to Building Your First Data Science Project](https://medium.com/analytics-vidhya/a-guide-to-building-your-first-data-science-project-e5f814b098a7)"
   ]
  },
  {
   "cell_type": "markdown",
   "metadata": {
    "id": "-meEGiqEIVgJ"
   },
   "source": [
    "# 1 | Business Understanding"
   ]
  },
  {
   "cell_type": "markdown",
   "metadata": {
    "id": "78sGtVbZIVv9"
   },
   "source": [
    "\n",
    "\n",
    "*   Ask relevant questions\n",
    "*   Define objectives for problem\n",
    "\n"
   ]
  },
  {
   "cell_type": "markdown",
   "metadata": {
    "id": "Ygf04yShIVz9"
   },
   "source": [
    "# 2 | Data Mining (Obtain)"
   ]
  },
  {
   "cell_type": "markdown",
   "metadata": {
    "id": "TEGcaAiSIV22"
   },
   "source": [
    "\n",
    "\n",
    "*   Gather and scrape data\n",
    "\n",
    "\n"
   ]
  },
  {
   "cell_type": "code",
   "execution_count": null,
   "metadata": {
    "id": "A_-cRSSJdb9V"
   },
   "outputs": [],
   "source": [
    "df.shape()\n",
    "df.info()"
   ]
  },
  {
   "cell_type": "markdown",
   "metadata": {
    "id": "Ut7JMygFIV5m"
   },
   "source": [
    "# 3 | Data Cleaning (Scrub)"
   ]
  },
  {
   "cell_type": "markdown",
   "metadata": {
    "id": "a97aEsAYIV8U"
   },
   "source": [
    "\n",
    "\n",
    "*   Fix inconsistencies within data\n",
    "*   Handle missing values\n",
    "\n"
   ]
  },
  {
   "cell_type": "code",
   "execution_count": null,
   "metadata": {
    "id": "RY6bmqb7dfn4"
   },
   "outputs": [],
   "source": [
    "df.isnull().sum()\n",
    "df.fillna(...)\n",
    "df.interpolate(..)"
   ]
  },
  {
   "cell_type": "markdown",
   "metadata": {
    "id": "wffC0SmLIV-r"
   },
   "source": [
    "# 4 | Data Exploration (Explore)"
   ]
  },
  {
   "cell_type": "markdown",
   "metadata": {
    "id": "eeIb4tABIWBR"
   },
   "source": [
    "\n",
    "\n",
    "*   Form hypothesis about defined problem by visually analysising data\n",
    "*   (Equivalent of lit rev?)\n",
    "*   visualize, cluster, reduce dimensions\n",
    "*   _more/less_ zoom  in/out, head/tail\n",
    "*   _histograms_ single features\n",
    "*   _scatter plots_ simple feature-pair\n",
    "*   _dimensionality reduction_ MDS, SVD, PCA, PLS\n",
    "*   _clustering_ group observations\n",
    "\n"
   ]
  },
  {
   "cell_type": "code",
   "execution_count": 3,
   "metadata": {
    "id": "jqbz-J1Qdy8d"
   },
   "outputs": [],
   "source": [
    "sns.boxplot(data=df)\n",
    "sns.heatmap(df.corr)\n",
    "sns.distplot(df[vars])\n",
    "sns.barplot(x='', y='')\n",
    "sns.countplot(x='', data=df, hue='')\n",
    "sns.regplot(x='', y='')\n",
    "sns.jointplot(data=df, x='', y='')"
   ]
  },
  {
   "cell_type": "code",
   "execution_count": null,
   "metadata": {},
   "outputs": [],
   "source": [
    "df.loc[:, 'column_1':'column_n']\n",
    "\n",
    "df.sort_values(by='column_name')\n",
    "\n"
   ]
  },
  {
   "cell_type": "markdown",
   "metadata": {
    "id": "kwZ4yXaYIWFg"
   },
   "source": [
    "# 5 | Feature Engineering"
   ]
  },
  {
   "cell_type": "markdown",
   "metadata": {
    "id": "b6l6oQ3tJTX7"
   },
   "source": [
    "\n",
    "\n",
    "*   Select important features\n",
    "*   Construct more meaningful ones with raw data\n",
    "\n"
   ]
  },
  {
   "cell_type": "code",
   "execution_count": null,
   "metadata": {
    "id": "tYzlj8yLe_4i"
   },
   "outputs": [],
   "source": [
    "# data pre-processing\n",
    "\n",
    "# train/test split\n",
    "# feature scaling MinMaxScaler\n",
    "# resample imblanaced variable SMOTE\n",
    "from sklearn.model_selection import cross_val_score, train_test_split\n",
    "from sklearn.preprocessing import StandardScaler, MinMaxScaler\n",
    "from imblearn.over_sampling import SMOTE\n",
    "\n",
    "# feature selection\n",
    "from sklearn.feature_selection import SelectKBest, chi2\n",
    "from sklearn.feature_selection import mutual_info_clasif"
   ]
  },
  {
   "cell_type": "code",
   "execution_count": null,
   "metadata": {
    "id": "geBWZTnFeJay"
   },
   "outputs": [],
   "source": [
    "\n"
   ]
  },
  {
   "cell_type": "markdown",
   "metadata": {
    "id": "8RyZZ1ptJTb-"
   },
   "source": [
    "# 6 | Predictive Modeling (Model)"
   ]
  },
  {
   "cell_type": "markdown",
   "metadata": {
    "id": "t2zyd4HEJTe1"
   },
   "source": [
    "\n",
    "\n",
    "*   Train ML models\n",
    "*   Evaluate model performance\n",
    "*   Use model to make predictions\n",
    "*   fit/train, optimize, validate\n",
    "\n"
   ]
  },
  {
   "cell_type": "code",
   "execution_count": null,
   "metadata": {
    "id": "gMeixFE6go3u"
   },
   "outputs": [],
   "source": [
    "# logistic regression – understand influence one variable\n",
    "# random forest – classification and regression\n",
    "# knn – closeness of data points\n",
    "# svm – crates linear separator => two classes"
   ]
  },
  {
   "cell_type": "markdown",
   "metadata": {
    "id": "ggREAWQFJThN"
   },
   "source": [
    "# 7 | Data Visualization (Interpret)"
   ]
  },
  {
   "cell_type": "markdown",
   "metadata": {
    "id": "VkY5xy-rJTj0"
   },
   "source": [
    "\n",
    "\n",
    "*   Communicate findings with key stakeholders\n",
    "*   Use plots and interactive visualizations\n",
    "*   Choose natureal set of input features\n",
    "*   Choose hypothesis space\n",
    "*   Choose learning/optimization algorithm (regularization)\n",
    "\n"
   ]
  },
  {
   "cell_type": "code",
   "execution_count": null,
   "metadata": {
    "id": "eohx0vVqf3Pd"
   },
   "outputs": [],
   "source": [
    "# hyperparameter tunin\n",
    "\n",
    "# GridSearchCV\n",
    "# RandomizedSearchCV\n",
    "# RandomForest n_estimators, max_features, max_depth, min_samples_split, min_samples_leaf, bootstrap\n",
    "# knn leaf size, n_neighbors, p\n",
    "# svm C, kernel, gamma\n"
   ]
  },
  {
   "cell_type": "code",
   "execution_count": null,
   "metadata": {
    "id": "_Y0a1hkLgCoX"
   },
   "outputs": [],
   "source": [
    "# model evaluation\n",
    "# classification accurcy\n",
    "# confusion matrix"
   ]
  }
 ],
 "metadata": {
  "colab": {
   "authorship_tag": "ABX9TyOyMdv5og14AHB7Obe0xvjT",
   "include_colab_link": true,
   "provenance": []
  },
  "kernelspec": {
   "display_name": "Python 3 (ipykernel)",
   "language": "python",
   "name": "python3"
  },
  "language_info": {
   "codemirror_mode": {
    "name": "ipython",
    "version": 3
   },
   "file_extension": ".py",
   "mimetype": "text/x-python",
   "name": "python",
   "nbconvert_exporter": "python",
   "pygments_lexer": "ipython3",
   "version": "3.8.12"
  }
 },
 "nbformat": 4,
 "nbformat_minor": 1
}
